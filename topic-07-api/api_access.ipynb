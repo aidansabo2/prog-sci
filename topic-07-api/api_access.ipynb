{
 "cells": [
  {
   "cell_type": "code",
   "execution_count": 4,
   "metadata": {},
   "outputs": [],
   "source": [
    "# get libraries\n",
    "import requests"
   ]
  },
  {
   "cell_type": "code",
   "execution_count": 9,
   "metadata": {},
   "outputs": [],
   "source": [
    "# utility function to get time\n",
    "def get_time():\n",
    "    # get time from server\n",
    "    result = requests.get(\"http://localhost:5000/api/time\")\n",
    "    assert result.status_code == 200, f\"Failed to get data, status code = {result.status_code}.\"\n",
    "    assert \"application/json\" in result.headers['Content-Type'], \"JSON expected.\"\n",
    "    return result.json()\n",
    "\n",
    "def test_get_time():\n",
    "    data = get_time()\n",
    "    assert type(data) is dict\n",
    "    for item in [\"year\",\"month\",\"day\",\"hour\",\"second\",\"timezone\"]:\n",
    "        assert item in data\n",
    "    assert data[\"year\"] in [2024,2025,2026]\n"
   ]
  },
  {
   "cell_type": "code",
   "execution_count": 6,
   "metadata": {},
   "outputs": [
    {
     "name": "stdout",
     "output_type": "stream",
     "text": [
      "{'day': 24, 'hour': 17, 'minute': 35, 'month': 10, 'second': 15, 'timezone': 'UTC', 'year': 2024}\n"
     ]
    }
   ],
   "source": [
    "# play with code\n",
    "print(get_time())"
   ]
  }
 ],
 "metadata": {
  "language_info": {
   "name": "python"
  }
 },
 "nbformat": 4,
 "nbformat_minor": 2
}
