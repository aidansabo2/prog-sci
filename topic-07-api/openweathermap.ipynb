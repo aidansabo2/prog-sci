{
 "cells": [
  {
   "cell_type": "code",
   "execution_count": 1,
   "metadata": {},
   "outputs": [],
   "source": [
    "# Play with OpenWeatherMap API"
   ]
  },
  {
   "cell_type": "code",
   "execution_count": 2,
   "metadata": {},
   "outputs": [],
   "source": [
    "import requests\n",
    "import pandas as pd"
   ]
  },
  {
   "cell_type": "code",
   "execution_count": null,
   "metadata": {},
   "outputs": [],
   "source": [
    "API_KEY=\"021020\"\n",
    "BASE_URL=\"http://api.openweathermap.org/data/2.5/weather\""
   ]
  },
  {
   "cell_type": "code",
   "execution_count": 10,
   "metadata": {},
   "outputs": [
    {
     "data": {
      "text/plain": [
       "200"
      ]
     },
     "execution_count": 10,
     "metadata": {},
     "output_type": "execute_result"
    }
   ],
   "source": [
    "params = {\n",
    "    'q':'London',\n",
    "    'appid':API_KEY,\n",
    "    'units':'imperial'\n",
    "}\n",
    "response = requests.get(BASE_URL, params=params)\n",
    "response.status_code"
   ]
  },
  {
   "cell_type": "code",
   "execution_count": 11,
   "metadata": {},
   "outputs": [
    {
     "data": {
      "text/plain": [
       "{'coord': {'lon': -0.1257, 'lat': 51.5085},\n",
       " 'weather': [{'id': 803,\n",
       "   'main': 'Clouds',\n",
       "   'description': 'broken clouds',\n",
       "   'icon': '04n'}],\n",
       " 'base': 'stations',\n",
       " 'main': {'temp': 55.58,\n",
       "  'feels_like': 54.64,\n",
       "  'temp_min': 53.71,\n",
       "  'temp_max': 58.01,\n",
       "  'pressure': 1026,\n",
       "  'humidity': 81,\n",
       "  'sea_level': 1026,\n",
       "  'grnd_level': 1021},\n",
       " 'visibility': 10000,\n",
       " 'wind': {'speed': 1.01, 'deg': 282, 'gust': 1.01},\n",
       " 'clouds': {'all': 75},\n",
       " 'dt': 1730394722,\n",
       " 'sys': {'type': 2,\n",
       "  'id': 2075535,\n",
       "  'country': 'GB',\n",
       "  'sunrise': 1730357563,\n",
       "  'sunset': 1730392521},\n",
       " 'timezone': 0,\n",
       " 'id': 2643743,\n",
       " 'name': 'London',\n",
       " 'cod': 200}"
      ]
     },
     "execution_count": 11,
     "metadata": {},
     "output_type": "execute_result"
    }
   ],
   "source": [
    "response.json()"
   ]
  },
  {
   "cell_type": "code",
   "execution_count": 25,
   "metadata": {},
   "outputs": [],
   "source": [
    "def get_weather(city):\n",
    "    params = {\n",
    "    'q':city,\n",
    "    'appid':API_KEY,\n",
    "    'units':'imperial'\n",
    "    }\n",
    "    response = requests.get(BASE_URL, params=params)\n",
    "    assert response.status_code == 200, f\"Bad response:{response.status_code}\"\n",
    "    data = response.json()\n",
    "    result = {\n",
    "        \"temperature\":data['main']['temp']\n",
    "    }\n",
    "    return result\n",
    "\n",
    "def test_get_weather():\n",
    "    result = get_weather(\"London\")\n",
    "    assert type(result) is dict\n",
    "    assert \"temperature\" in result.keys()\n",
    "    assert type(result[\"temperature\"]) is float\n",
    "    assert 0.0 <= result[\"temperature\"] <= 150.00\n",
    "    london_temp = result[\"temperature\"]\n",
    "    result = get_weather(\"Tokyo\")\n",
    "    assert result[\"temperature\"] != london_temp\n",
    "\n",
    "\n",
    "test_get_weather()"
   ]
  },
  {
   "cell_type": "code",
   "execution_count": 27,
   "metadata": {},
   "outputs": [
    {
     "name": "stdout",
     "output_type": "stream",
     "text": [
      "London {'temperature': 55.15}\n",
      "Tokyo {'temperature': 61.95}\n",
      "Paris {'temperature': 52}\n",
      "New York {'temperature': 78.19}\n",
      "Chicago {'temperature': 64.81}\n",
      "Seattle {'temperature': 47.17}\n",
      "Los Angeles {'temperature': 65.26}\n"
     ]
    }
   ],
   "source": [
    "for city in [\"London\",\"Tokyo\",\"Paris\",\"New York\", \"Chicago\",\"Seattle\",\"Los Angeles\"]:\n",
    "    print(city, get_weather(city))"
   ]
  },
  {
   "cell_type": "code",
   "execution_count": 28,
   "metadata": {},
   "outputs": [
    {
     "data": {
      "text/plain": [
       "[{'city': 'London', 'temperature': 55.15},\n",
       " {'city': 'Tokyo', 'temperature': 61.95},\n",
       " {'city': 'Paris', 'temperature': 52},\n",
       " {'city': 'New York', 'temperature': 78.19},\n",
       " {'city': 'Chicago', 'temperature': 64.8},\n",
       " {'city': 'Seattle', 'temperature': 47.17},\n",
       " {'city': 'Los Angeles', 'temperature': 65.26}]"
      ]
     },
     "execution_count": 28,
     "metadata": {},
     "output_type": "execute_result"
    }
   ],
   "source": [
    "cities = [\"London\",\"Tokyo\",\"Paris\",\"New York\", \"Chicago\",\"Seattle\",\"Los Angeles\"]\n",
    "results = [{\"city\":city,\"temperature\":get_weather(city)['temperature']} for city in cities]\n",
    "results"
   ]
  },
  {
   "cell_type": "code",
   "execution_count": 29,
   "metadata": {},
   "outputs": [
    {
     "data": {
      "text/html": [
       "<div>\n",
       "<style scoped>\n",
       "    .dataframe tbody tr th:only-of-type {\n",
       "        vertical-align: middle;\n",
       "    }\n",
       "\n",
       "    .dataframe tbody tr th {\n",
       "        vertical-align: top;\n",
       "    }\n",
       "\n",
       "    .dataframe thead th {\n",
       "        text-align: right;\n",
       "    }\n",
       "</style>\n",
       "<table border=\"1\" class=\"dataframe\">\n",
       "  <thead>\n",
       "    <tr style=\"text-align: right;\">\n",
       "      <th></th>\n",
       "      <th>city</th>\n",
       "      <th>temperature</th>\n",
       "    </tr>\n",
       "  </thead>\n",
       "  <tbody>\n",
       "    <tr>\n",
       "      <th>0</th>\n",
       "      <td>London</td>\n",
       "      <td>55.15</td>\n",
       "    </tr>\n",
       "    <tr>\n",
       "      <th>1</th>\n",
       "      <td>Tokyo</td>\n",
       "      <td>61.95</td>\n",
       "    </tr>\n",
       "    <tr>\n",
       "      <th>2</th>\n",
       "      <td>Paris</td>\n",
       "      <td>52.00</td>\n",
       "    </tr>\n",
       "    <tr>\n",
       "      <th>3</th>\n",
       "      <td>New York</td>\n",
       "      <td>78.19</td>\n",
       "    </tr>\n",
       "    <tr>\n",
       "      <th>4</th>\n",
       "      <td>Chicago</td>\n",
       "      <td>64.80</td>\n",
       "    </tr>\n",
       "    <tr>\n",
       "      <th>5</th>\n",
       "      <td>Seattle</td>\n",
       "      <td>47.17</td>\n",
       "    </tr>\n",
       "    <tr>\n",
       "      <th>6</th>\n",
       "      <td>Los Angeles</td>\n",
       "      <td>65.26</td>\n",
       "    </tr>\n",
       "  </tbody>\n",
       "</table>\n",
       "</div>"
      ],
      "text/plain": [
       "          city  temperature\n",
       "0       London        55.15\n",
       "1        Tokyo        61.95\n",
       "2        Paris        52.00\n",
       "3     New York        78.19\n",
       "4      Chicago        64.80\n",
       "5      Seattle        47.17\n",
       "6  Los Angeles        65.26"
      ]
     },
     "execution_count": 29,
     "metadata": {},
     "output_type": "execute_result"
    }
   ],
   "source": [
    "df = pd.DataFrame(results)\n",
    "df"
   ]
  },
  {
   "cell_type": "code",
   "execution_count": 32,
   "metadata": {},
   "outputs": [
    {
     "data": {
      "text/plain": [
       "<Axes: xlabel='city'>"
      ]
     },
     "execution_count": 32,
     "metadata": {},
     "output_type": "execute_result"
    },
    {
     "data": {
      "image/png": "[encoded data removed]",
      "text/plain": [
       "<Figure size 640x480 with 1 Axes>"
      ]
     },
     "metadata": {},
     "output_type": "display_data"
    }
   ],
   "source": [
    "df.plot.bar(x='city')"
   ]
  }
 ],
 "metadata": {
  "language_info": {
   "name": "python"
  }
 },
 "nbformat": 4,
 "nbformat_minor": 2
}
