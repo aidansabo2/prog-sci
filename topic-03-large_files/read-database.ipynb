{
 "cells": [
  {
   "cell_type": "code",
   "execution_count": 2,
   "metadata": {},
   "outputs": [],
   "source": [
    "import dataset"
   ]
  },
  {
   "cell_type": "code",
   "execution_count": 3,
   "metadata": {},
   "outputs": [],
   "source": [
    "# connecting to a SQLite database\n",
    "db = dataset.connect('sqlite:///../data/example.db')"
   ]
  },
  {
   "cell_type": "code",
   "execution_count": 4,
   "metadata": {},
   "outputs": [
    {
     "data": {
      "text/plain": [
       "['peop', 'people']"
      ]
     },
     "execution_count": 4,
     "metadata": {},
     "output_type": "execute_result"
    }
   ],
   "source": [
    "db.tables"
   ]
  },
  {
   "cell_type": "code",
   "execution_count": 5,
   "metadata": {},
   "outputs": [],
   "source": [
    "people_table = db[\"people\"]"
   ]
  },
  {
   "cell_type": "code",
   "execution_count": 6,
   "metadata": {},
   "outputs": [
    {
     "data": {
      "text/plain": [
       "['Index',\n",
       " 'User Id',\n",
       " 'First Name',\n",
       " 'Last Name',\n",
       " 'Sex',\n",
       " 'Email',\n",
       " 'Phone',\n",
       " 'Date of birth',\n",
       " 'Job Title']"
      ]
     },
     "execution_count": 6,
     "metadata": {},
     "output_type": "execute_result"
    }
   ],
   "source": [
    "people_table.columns"
   ]
  },
  {
   "cell_type": "code",
   "execution_count": 8,
   "metadata": {},
   "outputs": [
    {
     "data": {
      "text/plain": [
       "2000000"
      ]
     },
     "execution_count": 8,
     "metadata": {},
     "output_type": "execute_result"
    }
   ],
   "source": [
    "# read all the data at once\n",
    "people = list(people_table.all())\n",
    "len(people)"
   ]
  },
  {
   "cell_type": "code",
   "execution_count": 9,
   "metadata": {},
   "outputs": [
    {
     "data": {
      "text/plain": [
       "OrderedDict([('Index', '1'),\n",
       "             ('User Id', '4defE49671cF860'),\n",
       "             ('First Name', 'Sydney'),\n",
       "             ('Last Name', 'Shannon'),\n",
       "             ('Sex', 'Male'),\n",
       "             ('Email', 'tvang@example.net'),\n",
       "             ('Phone', '574-440-1423x9799'),\n",
       "             ('Date of birth', '2020-07-09'),\n",
       "             ('Job Title', 'Technical brewer')])"
      ]
     },
     "execution_count": 9,
     "metadata": {},
     "output_type": "execute_result"
    }
   ],
   "source": [
    "people[0]"
   ]
  },
  {
   "cell_type": "code",
   "execution_count": 11,
   "metadata": {},
   "outputs": [],
   "source": [
    "alvarezes = [p for p in people if p[\"Last Name\"] == \"Alvarez\"]"
   ]
  },
  {
   "cell_type": "code",
   "execution_count": 12,
   "metadata": {},
   "outputs": [
    {
     "data": {
      "text/plain": [
       "1872"
      ]
     },
     "execution_count": 12,
     "metadata": {},
     "output_type": "execute_result"
    }
   ],
   "source": [
    "len(alvarezes)"
   ]
  },
  {
   "cell_type": "code",
   "execution_count": 13,
   "metadata": {},
   "outputs": [
    {
     "name": "stdout",
     "output_type": "stream",
     "text": [
      "1872\n"
     ]
    }
   ],
   "source": [
    "# line-by-line, don't read all at once\n",
    "people = people_table.all()\n",
    "n_alv = 0\n",
    "for p in people:\n",
    "    if p[\"Last Name\"] == \"Alvarez\":\n",
    "        n_alv = n_alv + 1\n",
    "print(n_alv)"
   ]
  },
  {
   "cell_type": "code",
   "execution_count": 16,
   "metadata": {},
   "outputs": [
    {
     "name": "stdout",
     "output_type": "stream",
     "text": [
      "1872 [{'First Name': 'Aaron', 'Last Name': 'Alvarez', 'Date of birth': '1976-10-24'}, {'First Name': 'Kendra', 'Last Name': 'Alvarez', 'Date of birth': '1919-06-04'}, {'First Name': 'Tanner', 'Last Name': 'Alvarez', 'Date of birth': '2003-06-15'}]\n"
     ]
    }
   ],
   "source": [
    "# line-by-line, don't read all at once\n",
    "names = []\n",
    "for p in people_table.all():\n",
    "    if p[\"Last Name\"] == \"Alvarez\":\n",
    "        item = {}\n",
    "        for field in [\"First Name\", \"Last Name\",'Date of birth']:\n",
    "            item[field] = p[field]\n",
    "        names.append(item)\n",
    "print(len(names), names[0:3])"
   ]
  },
  {
   "cell_type": "code",
   "execution_count": 18,
   "metadata": {},
   "outputs": [
    {
     "data": {
      "text/plain": [
       "(1872,\n",
       " [{'First Name': 'Aaron', 'Last Name': 'Alvarez'},\n",
       "  {'First Name': 'Kendra', 'Last Name': 'Alvarez'},\n",
       "  {'First Name': 'Tanner', 'Last Name': 'Alvarez'}])"
      ]
     },
     "execution_count": 18,
     "metadata": {},
     "output_type": "execute_result"
    }
   ],
   "source": [
    "alvarezes = [{\n",
    "                \"First Name\":p[\"First Name\"],\n",
    "                \"Last Name\":p[\"Last Name\"],\n",
    "             } for p in people_table.all() if p[\"Last Name\"] == \"Alvarez\"]\n",
    "len(alvarezes), alvarezes[0:3]"
   ]
  }
 ],
 "metadata": {
  "language_info": {
   "name": "python"
  }
 },
 "nbformat": 4,
 "nbformat_minor": 2
}
